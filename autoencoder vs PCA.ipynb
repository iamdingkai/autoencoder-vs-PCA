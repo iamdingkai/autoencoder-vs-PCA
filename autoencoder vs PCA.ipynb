{
 "cells": [
  {
   "cell_type": "markdown",
   "metadata": {},
   "source": [
    "# Copyright:\n",
    "The code has been borrowed from \n",
    "\n",
    "https://colab.research.google.com/github/orico/PCAvsAutoencoder/blob/master/PCA_vs_Autoencoder_tutorial.ipynb\n",
    "\n",
    "For personal study purposes only.\n",
    "\n",
    "\n",
    "We take a 4D feature from iris, transformed them into 2D using either PCA or AutoEncoder. \n",
    "\n",
    "Then we check separation, which is better?"
   ]
  },
  {
   "cell_type": "code",
   "execution_count": 4,
   "metadata": {},
   "outputs": [],
   "source": [
    "import pandas as pd\n",
    "import numpy as np\n",
    "import matplotlib.pyplot as plt\n",
    "\n",
    "from sklearn import datasets\n",
    "from sklearn.preprocessing import MinMaxScaler"
   ]
  },
  {
   "cell_type": "code",
   "execution_count": 38,
   "metadata": {},
   "outputs": [],
   "source": [
    "X, y = datasets.load_wine(return_X_y=True, as_frame=True)\n",
    "scaler = MinMaxScaler()\n",
    "scaler.fit(X)\n",
    "X_scaled = scaler.transform(X)"
   ]
  },
  {
   "cell_type": "code",
   "execution_count": 39,
   "metadata": {},
   "outputs": [
    {
     "data": {
      "text/plain": [
       "(178, 13)"
      ]
     },
     "execution_count": 39,
     "metadata": {},
     "output_type": "execute_result"
    }
   ],
   "source": [
    "X.shape"
   ]
  },
  {
   "cell_type": "code",
   "execution_count": 88,
   "metadata": {},
   "outputs": [
    {
     "data": {
      "text/plain": [
       "array([[0.84210526, 0.1916996 , 0.57219251, ..., 0.45528455, 0.97069597,\n",
       "        0.56134094],\n",
       "       [0.57105263, 0.2055336 , 0.4171123 , ..., 0.46341463, 0.78021978,\n",
       "        0.55064194],\n",
       "       [0.56052632, 0.3201581 , 0.70053476, ..., 0.44715447, 0.6959707 ,\n",
       "        0.64693295],\n",
       "       ...,\n",
       "       [0.58947368, 0.69960474, 0.48128342, ..., 0.08943089, 0.10622711,\n",
       "        0.39728959],\n",
       "       [0.56315789, 0.36561265, 0.54010695, ..., 0.09756098, 0.12820513,\n",
       "        0.40085592],\n",
       "       [0.81578947, 0.66403162, 0.73796791, ..., 0.10569106, 0.12087912,\n",
       "        0.20114123]])"
      ]
     },
     "execution_count": 88,
     "metadata": {},
     "output_type": "execute_result"
    }
   ],
   "source": [
    "X_scaled"
   ]
  },
  {
   "cell_type": "code",
   "execution_count": 43,
   "metadata": {},
   "outputs": [
    {
     "data": {
      "text/plain": [
       "(array([0, 1, 2]), array([59, 71, 48]))"
      ]
     },
     "execution_count": 43,
     "metadata": {},
     "output_type": "execute_result"
    }
   ],
   "source": [
    "np.unique(y, return_counts=True)"
   ]
  },
  {
   "cell_type": "code",
   "execution_count": 100,
   "metadata": {},
   "outputs": [],
   "source": [
    "def plot_transformed(X_transformed, ax):\n",
    "    for i, target_name, color in zip([0, 1, 2], [0, 1, 2], ['red', 'blue', 'green']):\n",
    "        ax.scatter(\n",
    "            X_transformed[y==i, 0], \n",
    "            X_transformed[y==i, 1],\n",
    "            color=color,\n",
    "            alpha=1,\n",
    "            lw=2,\n",
    "            label=target_name,\n",
    "        )\n",
    "    ax.set_xlabel('feature 1')\n",
    "    ax.set_ylabel('feature 2')\n",
    "    return"
   ]
  },
  {
   "cell_type": "code",
   "execution_count": null,
   "metadata": {},
   "outputs": [],
   "source": []
  },
  {
   "cell_type": "markdown",
   "metadata": {},
   "source": [
    "## PCA"
   ]
  },
  {
   "cell_type": "code",
   "execution_count": 98,
   "metadata": {},
   "outputs": [],
   "source": [
    "from sklearn.decomposition import PCA\n",
    "\n",
    "pca = PCA(n_components=2)\n",
    "X_pca = pca.fit_transform(X_scaled)\n"
   ]
  },
  {
   "cell_type": "code",
   "execution_count": null,
   "metadata": {},
   "outputs": [],
   "source": []
  },
  {
   "cell_type": "markdown",
   "metadata": {},
   "source": [
    "## AutoEncoder"
   ]
  },
  {
   "cell_type": "code",
   "execution_count": 25,
   "metadata": {},
   "outputs": [],
   "source": [
    "from tensorflow.keras import Sequential\n",
    "from tensorflow.keras.layers import Dense"
   ]
  },
  {
   "cell_type": "code",
   "execution_count": 45,
   "metadata": {},
   "outputs": [
    {
     "data": {
      "text/plain": [
       "(178, 13)"
      ]
     },
     "execution_count": 45,
     "metadata": {},
     "output_type": "execute_result"
    }
   ],
   "source": [
    "X.shape"
   ]
  },
  {
   "cell_type": "code",
   "execution_count": 80,
   "metadata": {},
   "outputs": [],
   "source": [
    "encoder = Sequential()\n",
    "encoder.add(Dense(units=6, activation='relu', input_shape=[13]))\n",
    "encoder.add(Dense(units=3, activation='relu'))\n",
    "encoder.add(Dense(units=2, activation='linear'))\n",
    "\n",
    "decoder = Sequential()\n",
    "decoder.add(Dense(units=3, activation='relu'))\n",
    "decoder.add(Dense(units=6, activation='relu'))\n",
    "decoder.add(Dense(units=13, activation='sigmoid'))\n",
    "\n",
    "autoencoder = Sequential([encoder, decoder])\n",
    "autoencoder.compile(loss='mse', optimizer='adam')"
   ]
  },
  {
   "cell_type": "code",
   "execution_count": 81,
   "metadata": {},
   "outputs": [
    {
     "name": "stdout",
     "output_type": "stream",
     "text": [
      "Model: \"sequential_16\"\n",
      "_________________________________________________________________\n",
      " Layer (type)                Output Shape              Param #   \n",
      "=================================================================\n",
      " sequential_14 (Sequential)  (None, 2)                 113       \n",
      "                                                                 \n",
      " sequential_15 (Sequential)  (None, 13)                124       \n",
      "                                                                 \n",
      "=================================================================\n",
      "Total params: 237 (948.00 Byte)\n",
      "Trainable params: 237 (948.00 Byte)\n",
      "Non-trainable params: 0 (0.00 Byte)\n",
      "_________________________________________________________________\n"
     ]
    }
   ],
   "source": [
    "autoencoder.summary()"
   ]
  },
  {
   "cell_type": "code",
   "execution_count": 102,
   "metadata": {},
   "outputs": [
    {
     "name": "stdout",
     "output_type": "stream",
     "text": [
      "Epoch 1/200\n",
      "2/2 [==============================] - 0s 5ms/step - loss: 0.0442\n",
      "Epoch 2/200\n",
      "2/2 [==============================] - 0s 7ms/step - loss: 0.0439\n",
      "Epoch 3/200\n",
      "2/2 [==============================] - 0s 7ms/step - loss: 0.0436\n",
      "Epoch 4/200\n",
      "2/2 [==============================] - 0s 7ms/step - loss: 0.0433\n",
      "Epoch 5/200\n",
      "2/2 [==============================] - 0s 5ms/step - loss: 0.0430\n",
      "Epoch 6/200\n",
      "2/2 [==============================] - 0s 6ms/step - loss: 0.0428\n",
      "Epoch 7/200\n",
      "2/2 [==============================] - 0s 6ms/step - loss: 0.0425\n",
      "Epoch 8/200\n",
      "2/2 [==============================] - 0s 5ms/step - loss: 0.0422\n",
      "Epoch 9/200\n",
      "2/2 [==============================] - 0s 5ms/step - loss: 0.0420\n",
      "Epoch 10/200\n",
      "2/2 [==============================] - 0s 6ms/step - loss: 0.0417\n",
      "Epoch 11/200\n",
      "2/2 [==============================] - 0s 14ms/step - loss: 0.0415\n",
      "Epoch 12/200\n",
      "2/2 [==============================] - 0s 6ms/step - loss: 0.0413\n",
      "Epoch 13/200\n",
      "2/2 [==============================] - 0s 12ms/step - loss: 0.0411\n",
      "Epoch 14/200\n",
      "2/2 [==============================] - 0s 4ms/step - loss: 0.0409\n",
      "Epoch 15/200\n",
      "2/2 [==============================] - 0s 4ms/step - loss: 0.0407\n",
      "Epoch 16/200\n",
      "2/2 [==============================] - 0s 4ms/step - loss: 0.0405\n",
      "Epoch 17/200\n",
      "2/2 [==============================] - 0s 4ms/step - loss: 0.0403\n",
      "Epoch 18/200\n",
      "2/2 [==============================] - 0s 3ms/step - loss: 0.0401\n",
      "Epoch 19/200\n",
      "2/2 [==============================] - 0s 4ms/step - loss: 0.0399\n",
      "Epoch 20/200\n",
      "2/2 [==============================] - 0s 4ms/step - loss: 0.0397\n",
      "Epoch 21/200\n",
      "2/2 [==============================] - 0s 4ms/step - loss: 0.0396\n",
      "Epoch 22/200\n",
      "2/2 [==============================] - 0s 4ms/step - loss: 0.0394\n",
      "Epoch 23/200\n",
      "2/2 [==============================] - 0s 3ms/step - loss: 0.0392\n",
      "Epoch 24/200\n",
      "2/2 [==============================] - 0s 5ms/step - loss: 0.0391\n",
      "Epoch 25/200\n",
      "2/2 [==============================] - 0s 5ms/step - loss: 0.0389\n",
      "Epoch 26/200\n",
      "2/2 [==============================] - 0s 5ms/step - loss: 0.0388\n",
      "Epoch 27/200\n",
      "2/2 [==============================] - 0s 5ms/step - loss: 0.0386\n",
      "Epoch 28/200\n",
      "2/2 [==============================] - 0s 4ms/step - loss: 0.0385\n",
      "Epoch 29/200\n",
      "2/2 [==============================] - 0s 4ms/step - loss: 0.0384\n",
      "Epoch 30/200\n",
      "2/2 [==============================] - 0s 7ms/step - loss: 0.0382\n",
      "Epoch 31/200\n",
      "2/2 [==============================] - 0s 5ms/step - loss: 0.0381\n",
      "Epoch 32/200\n",
      "2/2 [==============================] - 0s 5ms/step - loss: 0.0380\n",
      "Epoch 33/200\n",
      "2/2 [==============================] - 0s 5ms/step - loss: 0.0379\n",
      "Epoch 34/200\n",
      "2/2 [==============================] - 0s 6ms/step - loss: 0.0378\n",
      "Epoch 35/200\n",
      "2/2 [==============================] - 0s 5ms/step - loss: 0.0376\n",
      "Epoch 36/200\n",
      "2/2 [==============================] - 0s 6ms/step - loss: 0.0375\n",
      "Epoch 37/200\n",
      "2/2 [==============================] - 0s 6ms/step - loss: 0.0374\n",
      "Epoch 38/200\n",
      "2/2 [==============================] - 0s 6ms/step - loss: 0.0373\n",
      "Epoch 39/200\n",
      "2/2 [==============================] - 0s 6ms/step - loss: 0.0372\n",
      "Epoch 40/200\n",
      "2/2 [==============================] - 0s 7ms/step - loss: 0.0371\n",
      "Epoch 41/200\n",
      "2/2 [==============================] - 0s 22ms/step - loss: 0.0370\n",
      "Epoch 42/200\n",
      "2/2 [==============================] - 0s 5ms/step - loss: 0.0369\n",
      "Epoch 43/200\n",
      "2/2 [==============================] - 0s 14ms/step - loss: 0.0369\n",
      "Epoch 44/200\n",
      "2/2 [==============================] - 0s 4ms/step - loss: 0.0368\n",
      "Epoch 45/200\n",
      "2/2 [==============================] - 0s 3ms/step - loss: 0.0367\n",
      "Epoch 46/200\n",
      "2/2 [==============================] - 0s 6ms/step - loss: 0.0366\n",
      "Epoch 47/200\n",
      "2/2 [==============================] - 0s 5ms/step - loss: 0.0365\n",
      "Epoch 48/200\n",
      "2/2 [==============================] - 0s 6ms/step - loss: 0.0365\n",
      "Epoch 49/200\n",
      "2/2 [==============================] - 0s 5ms/step - loss: 0.0364\n",
      "Epoch 50/200\n",
      "2/2 [==============================] - 0s 5ms/step - loss: 0.0363\n",
      "Epoch 51/200\n",
      "2/2 [==============================] - 0s 6ms/step - loss: 0.0362\n",
      "Epoch 52/200\n",
      "2/2 [==============================] - 0s 7ms/step - loss: 0.0362\n",
      "Epoch 53/200\n",
      "2/2 [==============================] - 0s 6ms/step - loss: 0.0361\n",
      "Epoch 54/200\n",
      "2/2 [==============================] - 0s 6ms/step - loss: 0.0360\n",
      "Epoch 55/200\n",
      "2/2 [==============================] - 0s 5ms/step - loss: 0.0360\n",
      "Epoch 56/200\n",
      "2/2 [==============================] - 0s 6ms/step - loss: 0.0359\n",
      "Epoch 57/200\n",
      "2/2 [==============================] - 0s 6ms/step - loss: 0.0359\n",
      "Epoch 58/200\n",
      "2/2 [==============================] - 0s 6ms/step - loss: 0.0358\n",
      "Epoch 59/200\n",
      "2/2 [==============================] - 0s 6ms/step - loss: 0.0358\n",
      "Epoch 60/200\n",
      "2/2 [==============================] - 0s 6ms/step - loss: 0.0357\n",
      "Epoch 61/200\n",
      "2/2 [==============================] - 0s 7ms/step - loss: 0.0356\n",
      "Epoch 62/200\n",
      "2/2 [==============================] - 0s 5ms/step - loss: 0.0356\n",
      "Epoch 63/200\n",
      "2/2 [==============================] - 0s 6ms/step - loss: 0.0356\n",
      "Epoch 64/200\n",
      "2/2 [==============================] - 0s 5ms/step - loss: 0.0355\n",
      "Epoch 65/200\n",
      "2/2 [==============================] - 0s 6ms/step - loss: 0.0355\n",
      "Epoch 66/200\n",
      "2/2 [==============================] - 0s 4ms/step - loss: 0.0354\n",
      "Epoch 67/200\n",
      "2/2 [==============================] - 0s 6ms/step - loss: 0.0354\n",
      "Epoch 68/200\n",
      "2/2 [==============================] - 0s 4ms/step - loss: 0.0353\n",
      "Epoch 69/200\n",
      "2/2 [==============================] - 0s 4ms/step - loss: 0.0353\n",
      "Epoch 70/200\n",
      "2/2 [==============================] - 0s 4ms/step - loss: 0.0352\n",
      "Epoch 71/200\n",
      "2/2 [==============================] - 0s 4ms/step - loss: 0.0352\n",
      "Epoch 72/200\n",
      "2/2 [==============================] - 0s 12ms/step - loss: 0.0352\n",
      "Epoch 73/200\n",
      "2/2 [==============================] - 0s 7ms/step - loss: 0.0351\n",
      "Epoch 74/200\n",
      "2/2 [==============================] - 0s 6ms/step - loss: 0.0351\n",
      "Epoch 75/200\n",
      "2/2 [==============================] - 0s 7ms/step - loss: 0.0350\n",
      "Epoch 76/200\n",
      "2/2 [==============================] - 0s 6ms/step - loss: 0.0350\n",
      "Epoch 77/200\n",
      "2/2 [==============================] - 0s 5ms/step - loss: 0.0350\n",
      "Epoch 78/200\n",
      "2/2 [==============================] - 0s 5ms/step - loss: 0.0349\n",
      "Epoch 79/200\n",
      "2/2 [==============================] - 0s 8ms/step - loss: 0.0349\n",
      "Epoch 80/200\n",
      "2/2 [==============================] - 0s 7ms/step - loss: 0.0349\n",
      "Epoch 81/200\n",
      "2/2 [==============================] - 0s 6ms/step - loss: 0.0348\n",
      "Epoch 82/200\n",
      "2/2 [==============================] - 0s 5ms/step - loss: 0.0348\n",
      "Epoch 83/200\n",
      "2/2 [==============================] - 0s 4ms/step - loss: 0.0348\n",
      "Epoch 84/200\n",
      "2/2 [==============================] - 0s 6ms/step - loss: 0.0348\n",
      "Epoch 85/200\n",
      "2/2 [==============================] - 0s 6ms/step - loss: 0.0347\n",
      "Epoch 86/200\n",
      "2/2 [==============================] - 0s 6ms/step - loss: 0.0347\n",
      "Epoch 87/200\n",
      "2/2 [==============================] - 0s 7ms/step - loss: 0.0347\n",
      "Epoch 88/200\n",
      "2/2 [==============================] - 0s 5ms/step - loss: 0.0346\n",
      "Epoch 89/200\n",
      "2/2 [==============================] - 0s 4ms/step - loss: 0.0346\n",
      "Epoch 90/200\n",
      "2/2 [==============================] - 0s 4ms/step - loss: 0.0346\n",
      "Epoch 91/200\n",
      "2/2 [==============================] - 0s 4ms/step - loss: 0.0346\n",
      "Epoch 92/200\n",
      "2/2 [==============================] - 0s 4ms/step - loss: 0.0345\n",
      "Epoch 93/200\n",
      "2/2 [==============================] - 0s 4ms/step - loss: 0.0345\n",
      "Epoch 94/200\n",
      "2/2 [==============================] - 0s 6ms/step - loss: 0.0345\n",
      "Epoch 95/200\n",
      "2/2 [==============================] - 0s 6ms/step - loss: 0.0345\n",
      "Epoch 96/200\n",
      "2/2 [==============================] - 0s 6ms/step - loss: 0.0344\n",
      "Epoch 97/200\n",
      "2/2 [==============================] - 0s 6ms/step - loss: 0.0344\n",
      "Epoch 98/200\n",
      "2/2 [==============================] - 0s 7ms/step - loss: 0.0344\n",
      "Epoch 99/200\n",
      "2/2 [==============================] - 0s 30ms/step - loss: 0.0344\n",
      "Epoch 100/200\n",
      "2/2 [==============================] - 0s 4ms/step - loss: 0.0344\n",
      "Epoch 101/200\n",
      "2/2 [==============================] - 0s 8ms/step - loss: 0.0343\n",
      "Epoch 102/200\n",
      "2/2 [==============================] - 0s 4ms/step - loss: 0.0343\n",
      "Epoch 103/200\n",
      "2/2 [==============================] - 0s 5ms/step - loss: 0.0343\n",
      "Epoch 104/200\n",
      "2/2 [==============================] - 0s 6ms/step - loss: 0.0343\n",
      "Epoch 105/200\n",
      "2/2 [==============================] - 0s 6ms/step - loss: 0.0343\n",
      "Epoch 106/200\n",
      "2/2 [==============================] - 0s 7ms/step - loss: 0.0342\n",
      "Epoch 107/200\n",
      "2/2 [==============================] - 0s 6ms/step - loss: 0.0342\n",
      "Epoch 108/200\n",
      "2/2 [==============================] - 0s 7ms/step - loss: 0.0342\n",
      "Epoch 109/200\n",
      "2/2 [==============================] - 0s 6ms/step - loss: 0.0342\n",
      "Epoch 110/200\n",
      "2/2 [==============================] - 0s 5ms/step - loss: 0.0342\n",
      "Epoch 111/200\n",
      "2/2 [==============================] - 0s 8ms/step - loss: 0.0341\n",
      "Epoch 112/200\n",
      "2/2 [==============================] - 0s 6ms/step - loss: 0.0341\n",
      "Epoch 113/200\n",
      "2/2 [==============================] - 0s 7ms/step - loss: 0.0341\n",
      "Epoch 114/200\n",
      "2/2 [==============================] - 0s 7ms/step - loss: 0.0341\n",
      "Epoch 115/200\n",
      "2/2 [==============================] - 0s 4ms/step - loss: 0.0341\n",
      "Epoch 116/200\n",
      "2/2 [==============================] - 0s 4ms/step - loss: 0.0341\n",
      "Epoch 117/200\n",
      "2/2 [==============================] - 0s 4ms/step - loss: 0.0341\n",
      "Epoch 118/200\n",
      "2/2 [==============================] - 0s 4ms/step - loss: 0.0340\n",
      "Epoch 119/200\n",
      "2/2 [==============================] - 0s 5ms/step - loss: 0.0340\n",
      "Epoch 120/200\n",
      "2/2 [==============================] - 0s 6ms/step - loss: 0.0340\n",
      "Epoch 121/200\n",
      "2/2 [==============================] - 0s 8ms/step - loss: 0.0340\n",
      "Epoch 122/200\n",
      "2/2 [==============================] - 0s 7ms/step - loss: 0.0340\n",
      "Epoch 123/200\n",
      "2/2 [==============================] - 0s 4ms/step - loss: 0.0340\n",
      "Epoch 124/200\n",
      "2/2 [==============================] - 0s 5ms/step - loss: 0.0339\n",
      "Epoch 125/200\n",
      "2/2 [==============================] - 0s 4ms/step - loss: 0.0339\n",
      "Epoch 126/200\n",
      "2/2 [==============================] - 0s 17ms/step - loss: 0.0339\n",
      "Epoch 127/200\n",
      "2/2 [==============================] - 0s 12ms/step - loss: 0.0339\n",
      "Epoch 128/200\n",
      "2/2 [==============================] - 0s 5ms/step - loss: 0.0339\n",
      "Epoch 129/200\n",
      "2/2 [==============================] - 0s 5ms/step - loss: 0.0339\n",
      "Epoch 130/200\n",
      "2/2 [==============================] - 0s 4ms/step - loss: 0.0339\n",
      "Epoch 131/200\n",
      "2/2 [==============================] - 0s 4ms/step - loss: 0.0338\n",
      "Epoch 132/200\n",
      "2/2 [==============================] - 0s 3ms/step - loss: 0.0338\n",
      "Epoch 133/200\n",
      "2/2 [==============================] - 0s 4ms/step - loss: 0.0338\n",
      "Epoch 134/200\n",
      "2/2 [==============================] - 0s 5ms/step - loss: 0.0338\n",
      "Epoch 135/200\n",
      "2/2 [==============================] - 0s 6ms/step - loss: 0.0338\n",
      "Epoch 136/200\n",
      "2/2 [==============================] - 0s 5ms/step - loss: 0.0338\n",
      "Epoch 137/200\n",
      "2/2 [==============================] - 0s 6ms/step - loss: 0.0338\n",
      "Epoch 138/200\n",
      "2/2 [==============================] - 0s 5ms/step - loss: 0.0338\n",
      "Epoch 139/200\n",
      "2/2 [==============================] - 0s 6ms/step - loss: 0.0337\n",
      "Epoch 140/200\n",
      "2/2 [==============================] - 0s 6ms/step - loss: 0.0337\n",
      "Epoch 141/200\n",
      "2/2 [==============================] - 0s 6ms/step - loss: 0.0337\n",
      "Epoch 142/200\n",
      "2/2 [==============================] - 0s 6ms/step - loss: 0.0337\n",
      "Epoch 143/200\n",
      "2/2 [==============================] - 0s 6ms/step - loss: 0.0337\n",
      "Epoch 144/200\n",
      "2/2 [==============================] - 0s 6ms/step - loss: 0.0337\n",
      "Epoch 145/200\n",
      "2/2 [==============================] - 0s 6ms/step - loss: 0.0337\n",
      "Epoch 146/200\n",
      "2/2 [==============================] - 0s 6ms/step - loss: 0.0337\n",
      "Epoch 147/200\n",
      "2/2 [==============================] - 0s 6ms/step - loss: 0.0336\n",
      "Epoch 148/200\n",
      "2/2 [==============================] - 0s 5ms/step - loss: 0.0336\n",
      "Epoch 149/200\n",
      "2/2 [==============================] - 0s 5ms/step - loss: 0.0336\n",
      "Epoch 150/200\n",
      "2/2 [==============================] - 0s 4ms/step - loss: 0.0336\n",
      "Epoch 151/200\n",
      "2/2 [==============================] - 0s 4ms/step - loss: 0.0336\n",
      "Epoch 152/200\n",
      "2/2 [==============================] - 0s 4ms/step - loss: 0.0336\n",
      "Epoch 153/200\n",
      "2/2 [==============================] - 0s 4ms/step - loss: 0.0336\n",
      "Epoch 154/200\n",
      "2/2 [==============================] - 0s 3ms/step - loss: 0.0335\n",
      "Epoch 155/200\n",
      "2/2 [==============================] - 0s 8ms/step - loss: 0.0335\n",
      "Epoch 156/200\n",
      "2/2 [==============================] - 0s 19ms/step - loss: 0.0335\n",
      "Epoch 157/200\n",
      "2/2 [==============================] - 0s 8ms/step - loss: 0.0335\n",
      "Epoch 158/200\n",
      "2/2 [==============================] - 0s 7ms/step - loss: 0.0335\n",
      "Epoch 159/200\n",
      "2/2 [==============================] - 0s 4ms/step - loss: 0.0335\n",
      "Epoch 160/200\n",
      "2/2 [==============================] - 0s 4ms/step - loss: 0.0335\n",
      "Epoch 161/200\n",
      "2/2 [==============================] - 0s 5ms/step - loss: 0.0335\n",
      "Epoch 162/200\n",
      "2/2 [==============================] - 0s 6ms/step - loss: 0.0334\n",
      "Epoch 163/200\n",
      "2/2 [==============================] - 0s 5ms/step - loss: 0.0334\n",
      "Epoch 164/200\n",
      "2/2 [==============================] - 0s 6ms/step - loss: 0.0334\n",
      "Epoch 165/200\n",
      "2/2 [==============================] - 0s 4ms/step - loss: 0.0334\n",
      "Epoch 166/200\n",
      "2/2 [==============================] - 0s 4ms/step - loss: 0.0334\n",
      "Epoch 167/200\n",
      "2/2 [==============================] - 0s 3ms/step - loss: 0.0334\n",
      "Epoch 168/200\n",
      "2/2 [==============================] - 0s 4ms/step - loss: 0.0334\n",
      "Epoch 169/200\n",
      "2/2 [==============================] - 0s 4ms/step - loss: 0.0334\n",
      "Epoch 170/200\n",
      "2/2 [==============================] - 0s 3ms/step - loss: 0.0333\n",
      "Epoch 171/200\n",
      "2/2 [==============================] - 0s 4ms/step - loss: 0.0333\n",
      "Epoch 172/200\n",
      "2/2 [==============================] - 0s 3ms/step - loss: 0.0333\n",
      "Epoch 173/200\n",
      "2/2 [==============================] - 0s 4ms/step - loss: 0.0333\n",
      "Epoch 174/200\n",
      "2/2 [==============================] - 0s 4ms/step - loss: 0.0333\n",
      "Epoch 175/200\n",
      "2/2 [==============================] - 0s 4ms/step - loss: 0.0333\n",
      "Epoch 176/200\n",
      "2/2 [==============================] - 0s 3ms/step - loss: 0.0333\n",
      "Epoch 177/200\n",
      "2/2 [==============================] - 0s 4ms/step - loss: 0.0333\n",
      "Epoch 178/200\n",
      "2/2 [==============================] - 0s 3ms/step - loss: 0.0332\n",
      "Epoch 179/200\n",
      "2/2 [==============================] - 0s 4ms/step - loss: 0.0332\n",
      "Epoch 180/200\n",
      "2/2 [==============================] - 0s 3ms/step - loss: 0.0332\n",
      "Epoch 181/200\n",
      "2/2 [==============================] - 0s 17ms/step - loss: 0.0332\n",
      "Epoch 182/200\n",
      "2/2 [==============================] - 0s 15ms/step - loss: 0.0332\n",
      "Epoch 183/200\n",
      "2/2 [==============================] - 0s 6ms/step - loss: 0.0332\n",
      "Epoch 184/200\n",
      "2/2 [==============================] - 0s 5ms/step - loss: 0.0332\n",
      "Epoch 185/200\n",
      "2/2 [==============================] - 0s 5ms/step - loss: 0.0332\n",
      "Epoch 186/200\n",
      "2/2 [==============================] - 0s 4ms/step - loss: 0.0331\n",
      "Epoch 187/200\n",
      "2/2 [==============================] - 0s 5ms/step - loss: 0.0331\n",
      "Epoch 188/200\n",
      "2/2 [==============================] - 0s 7ms/step - loss: 0.0331\n",
      "Epoch 189/200\n",
      "2/2 [==============================] - 0s 7ms/step - loss: 0.0331\n",
      "Epoch 190/200\n",
      "2/2 [==============================] - 0s 6ms/step - loss: 0.0331\n",
      "Epoch 191/200\n",
      "2/2 [==============================] - 0s 6ms/step - loss: 0.0331\n",
      "Epoch 192/200\n",
      "2/2 [==============================] - 0s 6ms/step - loss: 0.0331\n",
      "Epoch 193/200\n",
      "2/2 [==============================] - 0s 5ms/step - loss: 0.0331\n",
      "Epoch 194/200\n",
      "2/2 [==============================] - 0s 7ms/step - loss: 0.0330\n",
      "Epoch 195/200\n",
      "2/2 [==============================] - 0s 6ms/step - loss: 0.0330\n",
      "Epoch 196/200\n",
      "2/2 [==============================] - 0s 6ms/step - loss: 0.0330\n",
      "Epoch 197/200\n",
      "2/2 [==============================] - 0s 7ms/step - loss: 0.0330\n",
      "Epoch 198/200\n",
      "2/2 [==============================] - 0s 6ms/step - loss: 0.0330\n",
      "Epoch 199/200\n",
      "2/2 [==============================] - 0s 6ms/step - loss: 0.0330\n",
      "Epoch 200/200\n",
      "2/2 [==============================] - 0s 4ms/step - loss: 0.0330\n"
     ]
    },
    {
     "data": {
      "text/plain": [
       "<keras.src.callbacks.History at 0x7f7937b5abc0>"
      ]
     },
     "execution_count": 102,
     "metadata": {},
     "output_type": "execute_result"
    }
   ],
   "source": [
    "autoencoder.fit(\n",
    "    x=X_scaled,\n",
    "    y=X_scaled,\n",
    "    batch_size=128,\n",
    "    epochs=200,\n",
    ")"
   ]
  },
  {
   "cell_type": "code",
   "execution_count": 103,
   "metadata": {},
   "outputs": [
    {
     "name": "stdout",
     "output_type": "stream",
     "text": [
      "6/6 [==============================] - 0s 2ms/step\n"
     ]
    }
   ],
   "source": [
    "X_autoencoder = encoder.predict(X_scaled)"
   ]
  },
  {
   "cell_type": "code",
   "execution_count": 104,
   "metadata": {},
   "outputs": [
    {
     "data": {
      "image/png": "[encoded data removed]",
      "text/plain": [
       "<Figure size 1000x300 with 2 Axes>"
      ]
     },
     "metadata": {},
     "output_type": "display_data"
    }
   ],
   "source": [
    "fig, ax = plt.subplots(1, 2, figsize=(10,3))\n",
    "plot_transformed(X_pca, ax[0])\n",
    "plot_transformed(X_autoencoder, ax[1])"
   ]
  },
  {
   "cell_type": "code",
   "execution_count": null,
   "metadata": {},
   "outputs": [],
   "source": []
  },
  {
   "cell_type": "code",
   "execution_count": null,
   "metadata": {},
   "outputs": [],
   "source": []
  }
 ],
 "metadata": {
  "kernelspec": {
   "display_name": "base",
   "language": "python",
   "name": "python3"
  },
  "language_info": {
   "codemirror_mode": {
    "name": "ipython",
    "version": 3
   },
   "file_extension": ".py",
   "mimetype": "text/x-python",
   "name": "python",
   "nbconvert_exporter": "python",
   "pygments_lexer": "ipython3",
   "version": "3.10.9"
  }
 },
 "nbformat": 4,
 "nbformat_minor": 2
}
